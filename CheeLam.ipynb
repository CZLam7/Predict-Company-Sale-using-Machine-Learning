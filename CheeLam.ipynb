{
 "cells": [
  {
   "cell_type": "markdown",
   "metadata": {
    "id": "sSLCraz1LSdW"
   },
   "source": [
    "# **Download Libraries**"
   ]
  },
  {
   "cell_type": "code",
   "execution_count": null,
   "metadata": {
    "colab": {
     "base_uri": "https://localhost:8080/"
    },
    "id": "Rvu8Z8VELYTH",
    "outputId": "b5e5f1f7-7311-4fb6-e78c-0c60c731bab7"
   },
   "outputs": [
    {
     "name": "stdout",
     "output_type": "stream",
     "text": [
      "Requirement already satisfied: sklearn in /usr/local/lib/python3.7/dist-packages (0.0)\n",
      "Requirement already satisfied: scikit-learn in /usr/local/lib/python3.7/dist-packages (from sklearn) (0.22.2.post1)\n",
      "Requirement already satisfied: numpy>=1.11.0 in /usr/local/lib/python3.7/dist-packages (from scikit-learn->sklearn) (1.19.5)\n",
      "Requirement already satisfied: scipy>=0.17.0 in /usr/local/lib/python3.7/dist-packages (from scikit-learn->sklearn) (1.4.1)\n",
      "Requirement already satisfied: joblib>=0.11 in /usr/local/lib/python3.7/dist-packages (from scikit-learn->sklearn) (1.0.1)\n"
     ]
    }
   ],
   "source": [
    "pip install sklearn"
   ]
  },
  {
   "cell_type": "code",
   "execution_count": null,
   "metadata": {
    "colab": {
     "base_uri": "https://localhost:8080/"
    },
    "id": "pQeCITL-LnoP",
    "outputId": "44615b7f-6272-4a5f-a9ef-df8a9c14a3d9"
   },
   "outputs": [
    {
     "name": "stdout",
     "output_type": "stream",
     "text": [
      "Requirement already satisfied: xgboost in /usr/local/lib/python3.7/dist-packages (0.90)\n",
      "Requirement already satisfied: numpy in /usr/local/lib/python3.7/dist-packages (from xgboost) (1.19.5)\n",
      "Requirement already satisfied: scipy in /usr/local/lib/python3.7/dist-packages (from xgboost) (1.4.1)\n"
     ]
    }
   ],
   "source": [
    "pip install xgboost"
   ]
  },
  {
   "cell_type": "code",
   "execution_count": null,
   "metadata": {
    "colab": {
     "base_uri": "https://localhost:8080/"
    },
    "id": "-t0irZyMMrdG",
    "outputId": "04d7de2e-7e5d-4705-a054-0d73c6d39e15"
   },
   "outputs": [
    {
     "name": "stdout",
     "output_type": "stream",
     "text": [
      "Collecting sktime\n",
      "  Downloading sktime-0.8.0-cp37-cp37m-manylinux_2_17_x86_64.manylinux2014_x86_64.whl (5.9 MB)\n",
      "\u001b[K     |████████████████████████████████| 5.9 MB 2.7 MB/s \n",
      "\u001b[?25hRequirement already satisfied: wheel in /usr/local/lib/python3.7/dist-packages (from sktime) (0.37.0)\n",
      "Requirement already satisfied: numpy>=1.19.3 in /usr/local/lib/python3.7/dist-packages (from sktime) (1.19.5)\n",
      "Collecting numba>=0.53\n",
      "  Downloading numba-0.54.0-2-cp37-cp37m-manylinux2014_x86_64.manylinux_2_17_x86_64.whl (3.4 MB)\n",
      "\u001b[K     |████████████████████████████████| 3.4 MB 42.9 MB/s \n",
      "\u001b[?25hCollecting statsmodels>=0.12.1\n",
      "  Downloading statsmodels-0.13.0-cp37-cp37m-manylinux_2_17_x86_64.manylinux2014_x86_64.whl (9.8 MB)\n",
      "\u001b[K     |████████████████████████████████| 9.8 MB 45.8 MB/s \n",
      "\u001b[?25hCollecting scikit-learn>=0.24.0\n",
      "  Downloading scikit_learn-1.0-cp37-cp37m-manylinux_2_12_x86_64.manylinux2010_x86_64.whl (23.1 MB)\n",
      "\u001b[K     |████████████████████████████████| 23.1 MB 53.0 MB/s \n",
      "\u001b[?25hRequirement already satisfied: pandas>=1.1.0 in /usr/local/lib/python3.7/dist-packages (from sktime) (1.1.5)\n",
      "Requirement already satisfied: setuptools in /usr/local/lib/python3.7/dist-packages (from numba>=0.53->sktime) (57.4.0)\n",
      "Collecting llvmlite<0.38,>=0.37.0rc1\n",
      "  Downloading llvmlite-0.37.0-cp37-cp37m-manylinux2014_x86_64.whl (26.3 MB)\n",
      "\u001b[K     |████████████████████████████████| 26.3 MB 91 kB/s \n",
      "\u001b[?25hRequirement already satisfied: pytz>=2017.2 in /usr/local/lib/python3.7/dist-packages (from pandas>=1.1.0->sktime) (2018.9)\n",
      "Requirement already satisfied: python-dateutil>=2.7.3 in /usr/local/lib/python3.7/dist-packages (from pandas>=1.1.0->sktime) (2.8.2)\n",
      "Requirement already satisfied: six>=1.5 in /usr/local/lib/python3.7/dist-packages (from python-dateutil>=2.7.3->pandas>=1.1.0->sktime) (1.15.0)\n",
      "Collecting threadpoolctl>=2.0.0\n",
      "  Downloading threadpoolctl-3.0.0-py3-none-any.whl (14 kB)\n",
      "Requirement already satisfied: joblib>=0.11 in /usr/local/lib/python3.7/dist-packages (from scikit-learn>=0.24.0->sktime) (1.0.1)\n",
      "Requirement already satisfied: scipy>=1.1.0 in /usr/local/lib/python3.7/dist-packages (from scikit-learn>=0.24.0->sktime) (1.4.1)\n",
      "Collecting patsy>=0.5.2\n",
      "  Downloading patsy-0.5.2-py2.py3-none-any.whl (233 kB)\n",
      "\u001b[K     |████████████████████████████████| 233 kB 56.6 MB/s \n",
      "\u001b[?25hInstalling collected packages: threadpoolctl, patsy, llvmlite, statsmodels, scikit-learn, numba, sktime\n",
      "  Attempting uninstall: patsy\n",
      "    Found existing installation: patsy 0.5.1\n",
      "    Uninstalling patsy-0.5.1:\n",
      "      Successfully uninstalled patsy-0.5.1\n",
      "  Attempting uninstall: llvmlite\n",
      "    Found existing installation: llvmlite 0.34.0\n",
      "    Uninstalling llvmlite-0.34.0:\n",
      "      Successfully uninstalled llvmlite-0.34.0\n",
      "  Attempting uninstall: statsmodels\n",
      "    Found existing installation: statsmodels 0.10.2\n",
      "    Uninstalling statsmodels-0.10.2:\n",
      "      Successfully uninstalled statsmodels-0.10.2\n",
      "  Attempting uninstall: scikit-learn\n",
      "    Found existing installation: scikit-learn 0.22.2.post1\n",
      "    Uninstalling scikit-learn-0.22.2.post1:\n",
      "      Successfully uninstalled scikit-learn-0.22.2.post1\n",
      "  Attempting uninstall: numba\n",
      "    Found existing installation: numba 0.51.2\n",
      "    Uninstalling numba-0.51.2:\n",
      "      Successfully uninstalled numba-0.51.2\n",
      "Successfully installed llvmlite-0.37.0 numba-0.54.0 patsy-0.5.2 scikit-learn-1.0 sktime-0.8.0 statsmodels-0.13.0 threadpoolctl-3.0.0\n"
     ]
    },
    {
     "data": {
      "application/vnd.colab-display-data+json": {
       "pip_warning": {
        "packages": [
         "sklearn",
         "statsmodels"
        ]
       }
      }
     },
     "metadata": {},
     "output_type": "display_data"
    }
   ],
   "source": [
    "pip install sktime"
   ]
  },
  {
   "cell_type": "code",
   "execution_count": null,
   "metadata": {
    "colab": {
     "base_uri": "https://localhost:8080/"
    },
    "id": "MKtyJlfj3B3U",
    "outputId": "53d60b5a-0503-4ce9-e9da-147777c82654"
   },
   "outputs": [
    {
     "name": "stdout",
     "output_type": "stream",
     "text": [
      "Requirement already satisfied: holidays in /usr/local/lib/python3.7/dist-packages (0.10.5.2)\n",
      "Requirement already satisfied: convertdate>=2.3.0 in /usr/local/lib/python3.7/dist-packages (from holidays) (2.3.2)\n",
      "Requirement already satisfied: six in /usr/local/lib/python3.7/dist-packages (from holidays) (1.15.0)\n",
      "Requirement already satisfied: python-dateutil in /usr/local/lib/python3.7/dist-packages (from holidays) (2.8.2)\n",
      "Requirement already satisfied: korean-lunar-calendar in /usr/local/lib/python3.7/dist-packages (from holidays) (0.2.1)\n",
      "Requirement already satisfied: hijri-converter in /usr/local/lib/python3.7/dist-packages (from holidays) (2.2.1)\n",
      "Requirement already satisfied: pytz>=2014.10 in /usr/local/lib/python3.7/dist-packages (from convertdate>=2.3.0->holidays) (2018.9)\n",
      "Requirement already satisfied: pymeeus<=1,>=0.3.13 in /usr/local/lib/python3.7/dist-packages (from convertdate>=2.3.0->holidays) (0.5.11)\n"
     ]
    }
   ],
   "source": [
    "pip install holidays"
   ]
  },
  {
   "cell_type": "markdown",
   "metadata": {
    "id": "AWkk-bc4LFJG"
   },
   "source": [
    "# **Import Libraries**"
   ]
  },
  {
   "cell_type": "code",
   "execution_count": null,
   "metadata": {
    "id": "1D0rjWh7Kvsx"
   },
   "outputs": [],
   "source": [
    "import pandas as pd\n",
    "import numpy as np\n",
    "import seaborn as sns\n",
    "import matplotlib.pyplot as plt\n",
    "from sklearn.preprocessing import OneHotEncoder\n",
    "from sklearn.model_selection import train_test_split\n",
    "from sklearn.ensemble import RandomForestRegressor\n",
    "from sklearn.metrics import mean_absolute_error\n",
    "from xgboost import XGBRegressor, plot_importance, plot_tree\n",
    "import holidays\n",
    "from sklearn.preprocessing import OrdinalEncoder\n",
    "import lightgbm as lgb"
   ]
  },
  {
   "cell_type": "markdown",
   "metadata": {
    "id": "8OC6ko0vNy2l"
   },
   "source": [
    "# **Read the Data**"
   ]
  },
  {
   "cell_type": "code",
   "execution_count": null,
   "metadata": {
    "colab": {
     "base_uri": "https://localhost:8080/"
    },
    "id": "1vc5OXF0N2ck",
    "outputId": "7142cb21-ea23-43b3-c94d-69132793ff84"
   },
   "outputs": [
    {
     "data": {
      "text/html": [
       "<div>\n",
       "<style scoped>\n",
       "    .dataframe tbody tr th:only-of-type {\n",
       "        vertical-align: middle;\n",
       "    }\n",
       "\n",
       "    .dataframe tbody tr th {\n",
       "        vertical-align: top;\n",
       "    }\n",
       "\n",
       "    .dataframe thead th {\n",
       "        text-align: right;\n",
       "    }\n",
       "</style>\n",
       "<table border=\"1\" class=\"dataframe\">\n",
       "  <thead>\n",
       "    <tr style=\"text-align: right;\">\n",
       "      <th></th>\n",
       "      <th>Date</th>\n",
       "      <th>Store</th>\n",
       "      <th>Item</th>\n",
       "      <th>Sales</th>\n",
       "    </tr>\n",
       "  </thead>\n",
       "  <tbody>\n",
       "    <tr>\n",
       "      <th>0</th>\n",
       "      <td>1-Jan-17</td>\n",
       "      <td>KMart</td>\n",
       "      <td>1</td>\n",
       "      <td>13</td>\n",
       "    </tr>\n",
       "    <tr>\n",
       "      <th>1</th>\n",
       "      <td>2-Jan-17</td>\n",
       "      <td>KMart</td>\n",
       "      <td>1</td>\n",
       "      <td>11</td>\n",
       "    </tr>\n",
       "    <tr>\n",
       "      <th>2</th>\n",
       "      <td>3-Jan-17</td>\n",
       "      <td>KMart</td>\n",
       "      <td>1</td>\n",
       "      <td>14</td>\n",
       "    </tr>\n",
       "    <tr>\n",
       "      <th>3</th>\n",
       "      <td>4-Jan-17</td>\n",
       "      <td>KMart</td>\n",
       "      <td>1</td>\n",
       "      <td>13</td>\n",
       "    </tr>\n",
       "    <tr>\n",
       "      <th>4</th>\n",
       "      <td>5-Jan-17</td>\n",
       "      <td>KMart</td>\n",
       "      <td>1</td>\n",
       "      <td>10</td>\n",
       "    </tr>\n",
       "    <tr>\n",
       "      <th>...</th>\n",
       "      <td>...</td>\n",
       "      <td>...</td>\n",
       "      <td>...</td>\n",
       "      <td>...</td>\n",
       "    </tr>\n",
       "    <tr>\n",
       "      <th>820995</th>\n",
       "      <td>26-Jun-21</td>\n",
       "      <td>SupaIGA</td>\n",
       "      <td>50</td>\n",
       "      <td>82</td>\n",
       "    </tr>\n",
       "    <tr>\n",
       "      <th>820996</th>\n",
       "      <td>27-Jun-21</td>\n",
       "      <td>SupaIGA</td>\n",
       "      <td>50</td>\n",
       "      <td>83</td>\n",
       "    </tr>\n",
       "    <tr>\n",
       "      <th>820997</th>\n",
       "      <td>28-Jun-21</td>\n",
       "      <td>SupaIGA</td>\n",
       "      <td>50</td>\n",
       "      <td>91</td>\n",
       "    </tr>\n",
       "    <tr>\n",
       "      <th>820998</th>\n",
       "      <td>29-Jun-21</td>\n",
       "      <td>SupaIGA</td>\n",
       "      <td>50</td>\n",
       "      <td>122</td>\n",
       "    </tr>\n",
       "    <tr>\n",
       "      <th>820999</th>\n",
       "      <td>30-Jun-21</td>\n",
       "      <td>SupaIGA</td>\n",
       "      <td>50</td>\n",
       "      <td>112</td>\n",
       "    </tr>\n",
       "  </tbody>\n",
       "</table>\n",
       "<p>821000 rows × 4 columns</p>\n",
       "</div>"
      ],
      "text/plain": [
       "             Date    Store  Item  Sales\n",
       "0        1-Jan-17    KMart     1     13\n",
       "1        2-Jan-17    KMart     1     11\n",
       "2        3-Jan-17    KMart     1     14\n",
       "3        4-Jan-17    KMart     1     13\n",
       "4        5-Jan-17    KMart     1     10\n",
       "...           ...      ...   ...    ...\n",
       "820995  26-Jun-21  SupaIGA    50     82\n",
       "820996  27-Jun-21  SupaIGA    50     83\n",
       "820997  28-Jun-21  SupaIGA    50     91\n",
       "820998  29-Jun-21  SupaIGA    50    122\n",
       "820999  30-Jun-21  SupaIGA    50    112\n",
       "\n",
       "[821000 rows x 4 columns]"
      ]
     },
     "execution_count": 157,
     "metadata": {},
     "output_type": "execute_result"
    }
   ],
   "source": [
    "train = pd.read_csv(\"train.csv\")\n",
    "test = pd.read_csv(\"test.csv\")\n",
    "train"
   ]
  },
  {
   "cell_type": "markdown",
   "metadata": {
    "id": "6EJfdrzYSAgB"
   },
   "source": [
    "# **EDA**"
   ]
  },
  {
   "cell_type": "code",
   "execution_count": null,
   "metadata": {
    "colab": {
     "base_uri": "https://localhost:8080/"
    },
    "id": "52YhAOpNRBhB",
    "outputId": "b4cd9590-8a97-4ab9-83e9-97d910a193f4"
   },
   "outputs": [
    {
     "data": {
      "text/plain": [
       "((821000, 4), (92000, 3))"
      ]
     },
     "execution_count": 141,
     "metadata": {},
     "output_type": "execute_result"
    }
   ],
   "source": [
    "train.shape, test.shape"
   ]
  },
  {
   "cell_type": "code",
   "execution_count": null,
   "metadata": {
    "colab": {
     "base_uri": "https://localhost:8080/"
    },
    "id": "1Iu3mqFzOJWJ",
    "outputId": "c3c73c89-794d-49af-d432-72c4eba60a53"
   },
   "outputs": [
    {
     "data": {
      "text/html": [
       "<div>\n",
       "<style scoped>\n",
       "    .dataframe tbody tr th:only-of-type {\n",
       "        vertical-align: middle;\n",
       "    }\n",
       "\n",
       "    .dataframe tbody tr th {\n",
       "        vertical-align: top;\n",
       "    }\n",
       "\n",
       "    .dataframe thead th {\n",
       "        text-align: right;\n",
       "    }\n",
       "</style>\n",
       "<table border=\"1\" class=\"dataframe\">\n",
       "  <thead>\n",
       "    <tr style=\"text-align: right;\">\n",
       "      <th></th>\n",
       "      <th>Date</th>\n",
       "      <th>Store</th>\n",
       "      <th>Item</th>\n",
       "      <th>Sales</th>\n",
       "    </tr>\n",
       "  </thead>\n",
       "  <tbody>\n",
       "    <tr>\n",
       "      <th>0</th>\n",
       "      <td>1-Jan-17</td>\n",
       "      <td>KMart</td>\n",
       "      <td>1</td>\n",
       "      <td>13</td>\n",
       "    </tr>\n",
       "    <tr>\n",
       "      <th>1</th>\n",
       "      <td>2-Jan-17</td>\n",
       "      <td>KMart</td>\n",
       "      <td>1</td>\n",
       "      <td>11</td>\n",
       "    </tr>\n",
       "    <tr>\n",
       "      <th>2</th>\n",
       "      <td>3-Jan-17</td>\n",
       "      <td>KMart</td>\n",
       "      <td>1</td>\n",
       "      <td>14</td>\n",
       "    </tr>\n",
       "    <tr>\n",
       "      <th>3</th>\n",
       "      <td>4-Jan-17</td>\n",
       "      <td>KMart</td>\n",
       "      <td>1</td>\n",
       "      <td>13</td>\n",
       "    </tr>\n",
       "    <tr>\n",
       "      <th>4</th>\n",
       "      <td>5-Jan-17</td>\n",
       "      <td>KMart</td>\n",
       "      <td>1</td>\n",
       "      <td>10</td>\n",
       "    </tr>\n",
       "  </tbody>\n",
       "</table>\n",
       "</div>"
      ],
      "text/plain": [
       "       Date  Store  Item  Sales\n",
       "0  1-Jan-17  KMart     1     13\n",
       "1  2-Jan-17  KMart     1     11\n",
       "2  3-Jan-17  KMart     1     14\n",
       "3  4-Jan-17  KMart     1     13\n",
       "4  5-Jan-17  KMart     1     10"
      ]
     },
     "execution_count": 142,
     "metadata": {},
     "output_type": "execute_result"
    }
   ],
   "source": [
    "train.head()"
   ]
  },
  {
   "cell_type": "code",
   "execution_count": null,
   "metadata": {
    "colab": {
     "base_uri": "https://localhost:8080/"
    },
    "id": "7HsW91NYQl_R",
    "outputId": "3fe87a2c-6627-40d3-e3d2-7bd394d2c922"
   },
   "outputs": [
    {
     "data": {
      "text/html": [
       "<div>\n",
       "<style scoped>\n",
       "    .dataframe tbody tr th:only-of-type {\n",
       "        vertical-align: middle;\n",
       "    }\n",
       "\n",
       "    .dataframe tbody tr th {\n",
       "        vertical-align: top;\n",
       "    }\n",
       "\n",
       "    .dataframe thead th {\n",
       "        text-align: right;\n",
       "    }\n",
       "</style>\n",
       "<table border=\"1\" class=\"dataframe\">\n",
       "  <thead>\n",
       "    <tr style=\"text-align: right;\">\n",
       "      <th></th>\n",
       "      <th>Date</th>\n",
       "      <th>Store</th>\n",
       "      <th>Item</th>\n",
       "    </tr>\n",
       "  </thead>\n",
       "  <tbody>\n",
       "    <tr>\n",
       "      <th>0</th>\n",
       "      <td>1-Jul-21</td>\n",
       "      <td>KMart</td>\n",
       "      <td>1</td>\n",
       "    </tr>\n",
       "    <tr>\n",
       "      <th>1</th>\n",
       "      <td>2-Jul-21</td>\n",
       "      <td>KMart</td>\n",
       "      <td>1</td>\n",
       "    </tr>\n",
       "    <tr>\n",
       "      <th>2</th>\n",
       "      <td>3-Jul-21</td>\n",
       "      <td>KMart</td>\n",
       "      <td>1</td>\n",
       "    </tr>\n",
       "    <tr>\n",
       "      <th>3</th>\n",
       "      <td>4-Jul-21</td>\n",
       "      <td>KMart</td>\n",
       "      <td>1</td>\n",
       "    </tr>\n",
       "    <tr>\n",
       "      <th>4</th>\n",
       "      <td>5-Jul-21</td>\n",
       "      <td>KMart</td>\n",
       "      <td>1</td>\n",
       "    </tr>\n",
       "  </tbody>\n",
       "</table>\n",
       "</div>"
      ],
      "text/plain": [
       "       Date  Store  Item\n",
       "0  1-Jul-21  KMart     1\n",
       "1  2-Jul-21  KMart     1\n",
       "2  3-Jul-21  KMart     1\n",
       "3  4-Jul-21  KMart     1\n",
       "4  5-Jul-21  KMart     1"
      ]
     },
     "execution_count": 143,
     "metadata": {},
     "output_type": "execute_result"
    }
   ],
   "source": [
    "test.head()"
   ]
  },
  {
   "cell_type": "code",
   "execution_count": null,
   "metadata": {
    "colab": {
     "base_uri": "https://localhost:8080/"
    },
    "id": "FIF2teDeOd3w",
    "outputId": "a67db633-c47c-402f-ec7f-c211b2bd2c65"
   },
   "outputs": [
    {
     "data": {
      "text/html": [
       "<div>\n",
       "<style scoped>\n",
       "    .dataframe tbody tr th:only-of-type {\n",
       "        vertical-align: middle;\n",
       "    }\n",
       "\n",
       "    .dataframe tbody tr th {\n",
       "        vertical-align: top;\n",
       "    }\n",
       "\n",
       "    .dataframe thead th {\n",
       "        text-align: right;\n",
       "    }\n",
       "</style>\n",
       "<table border=\"1\" class=\"dataframe\">\n",
       "  <thead>\n",
       "    <tr style=\"text-align: right;\">\n",
       "      <th></th>\n",
       "      <th>Item</th>\n",
       "      <th>Sales</th>\n",
       "    </tr>\n",
       "  </thead>\n",
       "  <tbody>\n",
       "    <tr>\n",
       "      <th>count</th>\n",
       "      <td>821000.000000</td>\n",
       "      <td>821000.000000</td>\n",
       "    </tr>\n",
       "    <tr>\n",
       "      <th>mean</th>\n",
       "      <td>25.500000</td>\n",
       "      <td>51.225683</td>\n",
       "    </tr>\n",
       "    <tr>\n",
       "      <th>std</th>\n",
       "      <td>14.430878</td>\n",
       "      <td>28.208462</td>\n",
       "    </tr>\n",
       "    <tr>\n",
       "      <th>min</th>\n",
       "      <td>1.000000</td>\n",
       "      <td>0.000000</td>\n",
       "    </tr>\n",
       "    <tr>\n",
       "      <th>25%</th>\n",
       "      <td>13.000000</td>\n",
       "      <td>29.000000</td>\n",
       "    </tr>\n",
       "    <tr>\n",
       "      <th>50%</th>\n",
       "      <td>25.500000</td>\n",
       "      <td>46.000000</td>\n",
       "    </tr>\n",
       "    <tr>\n",
       "      <th>75%</th>\n",
       "      <td>38.000000</td>\n",
       "      <td>68.000000</td>\n",
       "    </tr>\n",
       "    <tr>\n",
       "      <th>max</th>\n",
       "      <td>50.000000</td>\n",
       "      <td>214.000000</td>\n",
       "    </tr>\n",
       "  </tbody>\n",
       "</table>\n",
       "</div>"
      ],
      "text/plain": [
       "                Item          Sales\n",
       "count  821000.000000  821000.000000\n",
       "mean       25.500000      51.225683\n",
       "std        14.430878      28.208462\n",
       "min         1.000000       0.000000\n",
       "25%        13.000000      29.000000\n",
       "50%        25.500000      46.000000\n",
       "75%        38.000000      68.000000\n",
       "max        50.000000     214.000000"
      ]
     },
     "execution_count": 144,
     "metadata": {},
     "output_type": "execute_result"
    }
   ],
   "source": [
    "train.describe()"
   ]
  },
  {
   "cell_type": "code",
   "execution_count": null,
   "metadata": {
    "colab": {
     "base_uri": "https://localhost:8080/"
    },
    "id": "XfJ5zQjPQuWq",
    "outputId": "4b0c226a-cfbc-4331-c410-73ee70aeec4b"
   },
   "outputs": [
    {
     "data": {
      "text/html": [
       "<div>\n",
       "<style scoped>\n",
       "    .dataframe tbody tr th:only-of-type {\n",
       "        vertical-align: middle;\n",
       "    }\n",
       "\n",
       "    .dataframe tbody tr th {\n",
       "        vertical-align: top;\n",
       "    }\n",
       "\n",
       "    .dataframe thead th {\n",
       "        text-align: right;\n",
       "    }\n",
       "</style>\n",
       "<table border=\"1\" class=\"dataframe\">\n",
       "  <thead>\n",
       "    <tr style=\"text-align: right;\">\n",
       "      <th></th>\n",
       "      <th>Item</th>\n",
       "    </tr>\n",
       "  </thead>\n",
       "  <tbody>\n",
       "    <tr>\n",
       "      <th>count</th>\n",
       "      <td>92000.000000</td>\n",
       "    </tr>\n",
       "    <tr>\n",
       "      <th>mean</th>\n",
       "      <td>25.500000</td>\n",
       "    </tr>\n",
       "    <tr>\n",
       "      <th>std</th>\n",
       "      <td>14.430948</td>\n",
       "    </tr>\n",
       "    <tr>\n",
       "      <th>min</th>\n",
       "      <td>1.000000</td>\n",
       "    </tr>\n",
       "    <tr>\n",
       "      <th>25%</th>\n",
       "      <td>13.000000</td>\n",
       "    </tr>\n",
       "    <tr>\n",
       "      <th>50%</th>\n",
       "      <td>25.500000</td>\n",
       "    </tr>\n",
       "    <tr>\n",
       "      <th>75%</th>\n",
       "      <td>38.000000</td>\n",
       "    </tr>\n",
       "    <tr>\n",
       "      <th>max</th>\n",
       "      <td>50.000000</td>\n",
       "    </tr>\n",
       "  </tbody>\n",
       "</table>\n",
       "</div>"
      ],
      "text/plain": [
       "               Item\n",
       "count  92000.000000\n",
       "mean      25.500000\n",
       "std       14.430948\n",
       "min        1.000000\n",
       "25%       13.000000\n",
       "50%       25.500000\n",
       "75%       38.000000\n",
       "max       50.000000"
      ]
     },
     "execution_count": 145,
     "metadata": {},
     "output_type": "execute_result"
    }
   ],
   "source": [
    "test.describe()"
   ]
  },
  {
   "cell_type": "code",
   "execution_count": null,
   "metadata": {
    "colab": {
     "base_uri": "https://localhost:8080/"
    },
    "id": "ERHBPt4gQ5lv",
    "outputId": "143a0e75-d2e4-4fc8-a039-fe165d3238fb"
   },
   "outputs": [
    {
     "data": {
      "text/plain": [
       "(array(['KMart', 'Target', 'Coles', 'Woolies', 'BigW', 'Aldi',\n",
       "        'Asian SuperMart', 'Big Savers', 'Costco', 'SupaIGA'], dtype=object),\n",
       " array(['KMart', 'Target', 'Coles', 'Woolies', 'BigW', 'Aldi',\n",
       "        'Asian SuperMart', 'Big Savers', 'Costco', 'SupaIGA'], dtype=object))"
      ]
     },
     "execution_count": 146,
     "metadata": {},
     "output_type": "execute_result"
    }
   ],
   "source": [
    "train.Store.unique(), test.Store.unique()"
   ]
  },
  {
   "cell_type": "code",
   "execution_count": null,
   "metadata": {
    "colab": {
     "base_uri": "https://localhost:8080/"
    },
    "id": "I4ILogLuOrSy",
    "outputId": "79183d79-8133-4477-872b-38e6c941952e"
   },
   "outputs": [
    {
     "data": {
      "text/html": [
       "<div>\n",
       "<style scoped>\n",
       "    .dataframe tbody tr th:only-of-type {\n",
       "        vertical-align: middle;\n",
       "    }\n",
       "\n",
       "    .dataframe tbody tr th {\n",
       "        vertical-align: top;\n",
       "    }\n",
       "\n",
       "    .dataframe thead th {\n",
       "        text-align: right;\n",
       "    }\n",
       "</style>\n",
       "<table border=\"1\" class=\"dataframe\">\n",
       "  <thead>\n",
       "    <tr style=\"text-align: right;\">\n",
       "      <th></th>\n",
       "      <th>Date</th>\n",
       "      <th>Store</th>\n",
       "      <th>Item</th>\n",
       "      <th>Sales</th>\n",
       "    </tr>\n",
       "  </thead>\n",
       "  <tbody>\n",
       "    <tr>\n",
       "      <th>0</th>\n",
       "      <td>False</td>\n",
       "      <td>False</td>\n",
       "      <td>False</td>\n",
       "      <td>False</td>\n",
       "    </tr>\n",
       "    <tr>\n",
       "      <th>1</th>\n",
       "      <td>False</td>\n",
       "      <td>False</td>\n",
       "      <td>False</td>\n",
       "      <td>False</td>\n",
       "    </tr>\n",
       "    <tr>\n",
       "      <th>2</th>\n",
       "      <td>False</td>\n",
       "      <td>False</td>\n",
       "      <td>False</td>\n",
       "      <td>False</td>\n",
       "    </tr>\n",
       "    <tr>\n",
       "      <th>3</th>\n",
       "      <td>False</td>\n",
       "      <td>False</td>\n",
       "      <td>False</td>\n",
       "      <td>False</td>\n",
       "    </tr>\n",
       "    <tr>\n",
       "      <th>4</th>\n",
       "      <td>False</td>\n",
       "      <td>False</td>\n",
       "      <td>False</td>\n",
       "      <td>False</td>\n",
       "    </tr>\n",
       "    <tr>\n",
       "      <th>...</th>\n",
       "      <td>...</td>\n",
       "      <td>...</td>\n",
       "      <td>...</td>\n",
       "      <td>...</td>\n",
       "    </tr>\n",
       "    <tr>\n",
       "      <th>820995</th>\n",
       "      <td>False</td>\n",
       "      <td>False</td>\n",
       "      <td>False</td>\n",
       "      <td>False</td>\n",
       "    </tr>\n",
       "    <tr>\n",
       "      <th>820996</th>\n",
       "      <td>False</td>\n",
       "      <td>False</td>\n",
       "      <td>False</td>\n",
       "      <td>False</td>\n",
       "    </tr>\n",
       "    <tr>\n",
       "      <th>820997</th>\n",
       "      <td>False</td>\n",
       "      <td>False</td>\n",
       "      <td>False</td>\n",
       "      <td>False</td>\n",
       "    </tr>\n",
       "    <tr>\n",
       "      <th>820998</th>\n",
       "      <td>False</td>\n",
       "      <td>False</td>\n",
       "      <td>False</td>\n",
       "      <td>False</td>\n",
       "    </tr>\n",
       "    <tr>\n",
       "      <th>820999</th>\n",
       "      <td>False</td>\n",
       "      <td>False</td>\n",
       "      <td>False</td>\n",
       "      <td>False</td>\n",
       "    </tr>\n",
       "  </tbody>\n",
       "</table>\n",
       "<p>821000 rows × 4 columns</p>\n",
       "</div>"
      ],
      "text/plain": [
       "         Date  Store   Item  Sales\n",
       "0       False  False  False  False\n",
       "1       False  False  False  False\n",
       "2       False  False  False  False\n",
       "3       False  False  False  False\n",
       "4       False  False  False  False\n",
       "...       ...    ...    ...    ...\n",
       "820995  False  False  False  False\n",
       "820996  False  False  False  False\n",
       "820997  False  False  False  False\n",
       "820998  False  False  False  False\n",
       "820999  False  False  False  False\n",
       "\n",
       "[821000 rows x 4 columns]"
      ]
     },
     "execution_count": 147,
     "metadata": {},
     "output_type": "execute_result"
    }
   ],
   "source": [
    "# final row, sales has missing value\n",
    "train.isnull()"
   ]
  },
  {
   "cell_type": "code",
   "execution_count": null,
   "metadata": {
    "colab": {
     "base_uri": "https://localhost:8080/"
    },
    "id": "kirm8CqaP82v",
    "outputId": "df8d1d2e-e00c-45b9-8845-276e3cadd72f"
   },
   "outputs": [
    {
     "data": {
      "text/plain": [
       "Date     False\n",
       "Store    False\n",
       "Item     False\n",
       "dtype: bool"
      ]
     },
     "execution_count": 148,
     "metadata": {},
     "output_type": "execute_result"
    }
   ],
   "source": [
    "test.isnull().any()"
   ]
  },
  {
   "cell_type": "code",
   "execution_count": null,
   "metadata": {
    "colab": {
     "base_uri": "https://localhost:8080/"
    },
    "id": "R5QxQwFkRveE",
    "outputId": "f45eed3b-1153-4448-fde8-507aa06f7f39"
   },
   "outputs": [
    {
     "data": {
      "text/plain": [
       "(Date     object\n",
       " Store    object\n",
       " Item      int64\n",
       " Sales     int64\n",
       " dtype: object, Date     object\n",
       " Store    object\n",
       " Item      int64\n",
       " dtype: object)"
      ]
     },
     "execution_count": 149,
     "metadata": {},
     "output_type": "execute_result"
    }
   ],
   "source": [
    "train.dtypes, test.dtypes"
   ]
  },
  {
   "cell_type": "code",
   "execution_count": null,
   "metadata": {
    "id": "W7xi0dS9U-uZ"
   },
   "outputs": [],
   "source": [
    "train_date = train.set_index(pd.to_datetime(train[\"Date\"]))"
   ]
  },
  {
   "cell_type": "code",
   "execution_count": null,
   "metadata": {
    "colab": {
     "base_uri": "https://localhost:8080/"
    },
    "id": "wgPUkHRRSJq0",
    "outputId": "0ae73f01-30ec-45aa-f654-d8e0bb7a6c48"
   },
   "outputs": [
    {
     "data": {
      "image/png": "[encoded data removed]",
      "text/plain": [
       "<Figure size 1440x1440 with 10 Axes>"
      ]
     },
     "metadata": {
      "needs_background": "light"
     },
     "output_type": "display_data"
    }
   ],
   "source": [
    "plt.figure(figsize=(20,20))\n",
    "i=0\n",
    "for store in train_date.Store.unique():\n",
    "  i += 1\n",
    "  plt.subplot(10,1,i)\n",
    "  train_date.loc[train_date.Store == store, 'Sales'].sort_index(ascending=True).resample('W').sum().plot()\n",
    "  plt.title(store)\n",
    "\n",
    "plt.show()"
   ]
  },
  {
   "cell_type": "markdown",
   "metadata": {
    "id": "1lP_PzC7uG3p"
   },
   "source": [
    "# **Preprocess the Data**"
   ]
  },
  {
   "cell_type": "code",
   "execution_count": null,
   "metadata": {
    "id": "yYe7SfpmHXOY"
   },
   "outputs": [],
   "source": [
    "# convert to datetime format\n",
    "train_date = pd.to_datetime(train[\"Date\"])\n",
    "test_date = pd.to_datetime(test[\"Date\"])"
   ]
  },
  {
   "cell_type": "code",
   "execution_count": null,
   "metadata": {
    "colab": {
     "base_uri": "https://localhost:8080/"
    },
    "id": "yo2vzpAz1_f2",
    "outputId": "84e8ab87-1663-44fd-cab4-d96f8237bdf9"
   },
   "outputs": [
    {
     "name": "stderr",
     "output_type": "stream",
     "text": [
      "/usr/local/lib/python3.7/dist-packages/ipykernel_launcher.py:7: FutureWarning: Series.dt.weekofyear and Series.dt.week have been deprecated.  Please use Series.dt.isocalendar().week instead.\n",
      "  import sys\n",
      "/usr/local/lib/python3.7/dist-packages/ipykernel_launcher.py:14: FutureWarning: Series.dt.weekofyear and Series.dt.week have been deprecated.  Please use Series.dt.isocalendar().week instead.\n",
      "  \n"
     ]
    }
   ],
   "source": [
    "# split into year, month, date\n",
    "train[\"Date\"] = train_date\n",
    "train['Year']=train['Date'].dt.year\n",
    "train['Month']=train['Date'].dt.month \n",
    "train['Day']=train['Date'].dt.day\n",
    "train['Weekday'] = train['Date'].dt.dayofweek\n",
    "train['Week'] = train['Date'].dt.week\n",
    "\n",
    "test[\"Date\"] = test_date\n",
    "test['Year']=test['Date'].dt.year \n",
    "test['Month']=test['Date'].dt.month\n",
    "test['Day']=test['Date'].dt.day\n",
    "test['Weekday'] = test['Date'].dt.dayofweek\n",
    "test['Week'] = test['Date'].dt.week"
   ]
  },
  {
   "cell_type": "code",
   "execution_count": null,
   "metadata": {
    "id": "dqflUfsozG79"
   },
   "outputs": [],
   "source": [
    "# extract target variables\n",
    "X = train[[\"Year\",\"Month\",\"Day\",\"Store\",\"Item\",\"Weekday\",\"Week\"]]\n",
    "y = train[\"Sales\"]\n",
    "\n",
    "test = test[[\"Year\",\"Month\",\"Day\",\"Store\",\"Item\",\"Weekday\",\"Week\"]]"
   ]
  },
  {
   "cell_type": "code",
   "execution_count": null,
   "metadata": {
    "id": "81m3ic6hwr2P"
   },
   "outputs": [],
   "source": [
    "# split into training and validation set\n",
    "X_train, X_valid, y_train, y_valid = train_test_split(X, y, train_size=0.8, test_size=0.2, random_state=0)"
   ]
  },
  {
   "cell_type": "code",
   "execution_count": null,
   "metadata": {
    "colab": {
     "base_uri": "https://localhost:8080/"
    },
    "id": "eKUSO8rguOuZ",
    "outputId": "4dd9fb74-9077-43e9-b33a-bec1b0d4730b"
   },
   "outputs": [
    {
     "name": "stderr",
     "output_type": "stream",
     "text": [
      "/usr/local/lib/python3.7/dist-packages/ipykernel_launcher.py:3: SettingWithCopyWarning: \n",
      "A value is trying to be set on a copy of a slice from a DataFrame.\n",
      "Try using .loc[row_indexer,col_indexer] = value instead\n",
      "\n",
      "See the caveats in the documentation: https://pandas.pydata.org/pandas-docs/stable/user_guide/indexing.html#returning-a-view-versus-a-copy\n",
      "  This is separate from the ipykernel package so we can avoid doing imports until\n",
      "/usr/local/lib/python3.7/dist-packages/pandas/core/indexing.py:1734: SettingWithCopyWarning: \n",
      "A value is trying to be set on a copy of a slice from a DataFrame.\n",
      "Try using .loc[row_indexer,col_indexer] = value instead\n",
      "\n",
      "See the caveats in the documentation: https://pandas.pydata.org/pandas-docs/stable/user_guide/indexing.html#returning-a-view-versus-a-copy\n",
      "  isetter(loc, value[:, i].tolist())\n",
      "/usr/local/lib/python3.7/dist-packages/ipykernel_launcher.py:4: SettingWithCopyWarning: \n",
      "A value is trying to be set on a copy of a slice from a DataFrame.\n",
      "Try using .loc[row_indexer,col_indexer] = value instead\n",
      "\n",
      "See the caveats in the documentation: https://pandas.pydata.org/pandas-docs/stable/user_guide/indexing.html#returning-a-view-versus-a-copy\n",
      "  after removing the cwd from sys.path.\n",
      "/usr/local/lib/python3.7/dist-packages/pandas/core/indexing.py:1734: SettingWithCopyWarning: \n",
      "A value is trying to be set on a copy of a slice from a DataFrame.\n",
      "Try using .loc[row_indexer,col_indexer] = value instead\n",
      "\n",
      "See the caveats in the documentation: https://pandas.pydata.org/pandas-docs/stable/user_guide/indexing.html#returning-a-view-versus-a-copy\n",
      "  isetter(loc, value[:, i].tolist())\n"
     ]
    }
   ],
   "source": [
    "# use ordinal encoder to assign numbers to each store\n",
    "ordinal_encoder = OrdinalEncoder()\n",
    "X_train[['Store']] = ordinal_encoder.fit_transform(X_train[['Store']])\n",
    "X_valid[['Store']] = ordinal_encoder.transform(X_valid[['Store']])\n",
    "test[['Store']] = ordinal_encoder.transform(test[['Store']])"
   ]
  },
  {
   "cell_type": "markdown",
   "metadata": {
    "id": "wVOx_YZA5wHs"
   },
   "source": [
    "# **Train and Evaluate Model (RandomForest)**"
   ]
  },
  {
   "cell_type": "code",
   "execution_count": null,
   "metadata": {
    "id": "_L7RtRW1QUAF"
   },
   "outputs": [],
   "source": [
    "# Symmetric Mean Absolute Percentage Error\n",
    "\n",
    "def SMAPE(y, f):\n",
    "  f = pd.Series(f)\n",
    "  f.index = y_valid.index\n",
    "  total = 0\n",
    "  for i in y.index:\n",
    "    total += (abs(f[i] - y[i])/ ((y[i] + f[i])/2))\n",
    "  return(total/len(y))"
   ]
  },
  {
   "cell_type": "code",
   "execution_count": null,
   "metadata": {
    "colab": {
     "base_uri": "https://localhost:8080/"
    },
    "id": "Ftg9G85C0_k3",
    "outputId": "992adc13-f582-4c9c-abe3-4a4c6297f2cb"
   },
   "outputs": [
    {
     "name": "stderr",
     "output_type": "stream",
     "text": [
      "[Parallel(n_jobs=-1)]: Using backend ThreadingBackend with 2 concurrent workers.\n",
      "[Parallel(n_jobs=-1)]: Done   7 out of   7 | elapsed:   20.1s finished\n",
      "[Parallel(n_jobs=2)]: Using backend ThreadingBackend with 2 concurrent workers.\n",
      "[Parallel(n_jobs=2)]: Done   7 out of   7 | elapsed:    0.2s finished\n"
     ]
    },
    {
     "name": "stdout",
     "output_type": "stream",
     "text": [
      "6.011836161604459 0.13617839060584494\n"
     ]
    }
   ],
   "source": [
    "# n=7 gives optimal result, 14.75, 30,5 (13.61)\n",
    "model = RandomForestRegressor(n_estimators=7, random_state=0, n_jobs=-1, min_samples_split=30, min_samples_leaf=5, verbose=True)\n",
    "model.fit(X_train, y_train)\n",
    "preds = model.predict(X_valid)\n",
    "print(mean_absolute_error(y_valid, preds), SMAPE(y_valid, preds))\n"
   ]
  },
  {
   "cell_type": "markdown",
   "metadata": {
    "id": "oynGOu3fQjwj"
   },
   "source": [
    "# **Train and Evaluate Model (XGBoost)**"
   ]
  },
  {
   "cell_type": "code",
   "execution_count": null,
   "metadata": {
    "id": "waVsoNPfQpHg"
   },
   "outputs": [],
   "source": [
    "xgb_model = XGBRegressor(n_estimators=750, n_jobs=8, learning_rate=0.01)\n",
    "xgb_model.fit(X_train, y_train, \n",
    "             early_stopping_rounds=5, \n",
    "             eval_set=[(X_valid, y_valid)], \n",
    "             verbose=False)\n",
    "xgb_pred = xgb_model.predict(X_valid)\n",
    "print(mean_absolute_error(y_valid, xgb_pred), SMAPE(y_valid, xgb_pred))"
   ]
  },
  {
   "cell_type": "code",
   "execution_count": null,
   "metadata": {
    "id": "lB5eEVbDV9f2"
   },
   "outputs": [],
   "source": [
    "_ = plot_importance(xgb_model, height=0.9)"
   ]
  },
  {
   "cell_type": "markdown",
   "metadata": {
    "id": "CS1L7c93Cn5m"
   },
   "source": [
    "# **Preprocess + Train Full Dataset Using LightGBM**"
   ]
  },
  {
   "cell_type": "markdown",
   "metadata": {
    "id": "uFVusYPaBOza"
   },
   "source": [
    "After training a few models, we found that LightGBM gives the best performance, with 6000 rounds of iteration and a learning rate of 0.01."
   ]
  },
  {
   "cell_type": "code",
   "execution_count": null,
   "metadata": {
    "id": "npvWPDicCrmp"
   },
   "outputs": [],
   "source": [
    "# parameters for lgb encoder\n",
    "params = {\n",
    "        'nthread': 10,\n",
    "        'task': 'train',\n",
    "        'boosting_type': 'gbdt','metric': 'mape',\n",
    "         'num_leaves': 39,\n",
    "        'num_leaves': 64,\n",
    "        'learning_rate': 0.01,'verbose': 1,\n",
    "        }"
   ]
  },
  {
   "cell_type": "markdown",
   "metadata": {
    "id": "R_niu9P-C-go"
   },
   "source": [
    "Train the LGB model and generate predictions (takes a while)"
   ]
  },
  {
   "cell_type": "code",
   "execution_count": null,
   "metadata": {
    "colab": {
     "base_uri": "https://localhost:8080/"
    },
    "id": "Y94yMaV6ALY1",
    "outputId": "cc43499d-eb7f-4f21-c2b6-68847c4312f0"
   },
   "outputs": [
    {
     "name": "stdout",
     "output_type": "stream",
     "text": [
      "Training until validation scores don't improve for 1000 rounds.\n",
      "[50]\ttraining's mape: 0.530166\tvalid_1's mape: 0.528114\n",
      "[100]\ttraining's mape: 0.451575\tvalid_1's mape: 0.449787\n",
      "[150]\ttraining's mape: 0.390184\tvalid_1's mape: 0.388687\n",
      "[200]\ttraining's mape: 0.335526\tvalid_1's mape: 0.334222\n",
      "[250]\ttraining's mape: 0.293332\tvalid_1's mape: 0.292214\n",
      "[300]\ttraining's mape: 0.262161\tvalid_1's mape: 0.261154\n",
      "[350]\ttraining's mape: 0.235989\tvalid_1's mape: 0.235065\n",
      "[400]\ttraining's mape: 0.21503\tvalid_1's mape: 0.2142\n",
      "[450]\ttraining's mape: 0.198222\tvalid_1's mape: 0.197485\n",
      "[500]\ttraining's mape: 0.185656\tvalid_1's mape: 0.184976\n",
      "[550]\ttraining's mape: 0.175115\tvalid_1's mape: 0.174503\n",
      "[600]\ttraining's mape: 0.16716\tvalid_1's mape: 0.166616\n",
      "[650]\ttraining's mape: 0.160607\tvalid_1's mape: 0.160116\n",
      "[700]\ttraining's mape: 0.155765\tvalid_1's mape: 0.155334\n",
      "[750]\ttraining's mape: 0.151934\tvalid_1's mape: 0.151563\n",
      "[800]\ttraining's mape: 0.148901\tvalid_1's mape: 0.148563\n",
      "[850]\ttraining's mape: 0.146609\tvalid_1's mape: 0.146296\n",
      "[900]\ttraining's mape: 0.144573\tvalid_1's mape: 0.144293\n",
      "[950]\ttraining's mape: 0.14291\tvalid_1's mape: 0.142654\n",
      "[1000]\ttraining's mape: 0.1415\tvalid_1's mape: 0.141257\n",
      "[1050]\ttraining's mape: 0.140351\tvalid_1's mape: 0.140113\n",
      "[1100]\ttraining's mape: 0.139518\tvalid_1's mape: 0.1393\n",
      "[1150]\ttraining's mape: 0.138786\tvalid_1's mape: 0.138584\n",
      "[1200]\ttraining's mape: 0.138202\tvalid_1's mape: 0.138013\n",
      "[1250]\ttraining's mape: 0.13765\tvalid_1's mape: 0.137479\n",
      "[1300]\ttraining's mape: 0.137255\tvalid_1's mape: 0.137101\n",
      "[1350]\ttraining's mape: 0.13695\tvalid_1's mape: 0.13681\n",
      "[1400]\ttraining's mape: 0.136683\tvalid_1's mape: 0.136559\n",
      "[1450]\ttraining's mape: 0.136433\tvalid_1's mape: 0.136326\n",
      "[1500]\ttraining's mape: 0.136223\tvalid_1's mape: 0.136137\n",
      "[1550]\ttraining's mape: 0.136001\tvalid_1's mape: 0.135934\n",
      "[1600]\ttraining's mape: 0.13582\tvalid_1's mape: 0.135773\n",
      "[1650]\ttraining's mape: 0.135695\tvalid_1's mape: 0.135667\n",
      "[1700]\ttraining's mape: 0.135554\tvalid_1's mape: 0.13555\n",
      "[1750]\ttraining's mape: 0.13543\tvalid_1's mape: 0.135446\n",
      "[1800]\ttraining's mape: 0.135318\tvalid_1's mape: 0.135354\n",
      "[1850]\ttraining's mape: 0.135205\tvalid_1's mape: 0.135261\n",
      "[1900]\ttraining's mape: 0.135083\tvalid_1's mape: 0.135159\n",
      "[1950]\ttraining's mape: 0.134971\tvalid_1's mape: 0.135062\n",
      "[2000]\ttraining's mape: 0.134874\tvalid_1's mape: 0.134979\n",
      "[2050]\ttraining's mape: 0.134778\tvalid_1's mape: 0.134899\n",
      "[2100]\ttraining's mape: 0.1347\tvalid_1's mape: 0.13484\n",
      "[2150]\ttraining's mape: 0.134621\tvalid_1's mape: 0.134782\n",
      "[2200]\ttraining's mape: 0.134546\tvalid_1's mape: 0.134728\n",
      "[2250]\ttraining's mape: 0.13448\tvalid_1's mape: 0.134681\n",
      "[2300]\ttraining's mape: 0.134422\tvalid_1's mape: 0.134643\n",
      "[2350]\ttraining's mape: 0.134358\tvalid_1's mape: 0.1346\n",
      "[2400]\ttraining's mape: 0.134299\tvalid_1's mape: 0.134562\n",
      "[2450]\ttraining's mape: 0.134247\tvalid_1's mape: 0.13453\n",
      "[2500]\ttraining's mape: 0.134202\tvalid_1's mape: 0.134504\n",
      "[2550]\ttraining's mape: 0.134148\tvalid_1's mape: 0.13447\n",
      "[2600]\ttraining's mape: 0.134098\tvalid_1's mape: 0.134441\n",
      "[2650]\ttraining's mape: 0.134042\tvalid_1's mape: 0.134405\n",
      "[2700]\ttraining's mape: 0.133991\tvalid_1's mape: 0.134376\n",
      "[2750]\ttraining's mape: 0.133946\tvalid_1's mape: 0.134353\n",
      "[2800]\ttraining's mape: 0.133905\tvalid_1's mape: 0.134335\n",
      "[2850]\ttraining's mape: 0.133858\tvalid_1's mape: 0.134312\n",
      "[2900]\ttraining's mape: 0.133798\tvalid_1's mape: 0.134275\n",
      "[2950]\ttraining's mape: 0.133762\tvalid_1's mape: 0.134262\n",
      "[3000]\ttraining's mape: 0.133725\tvalid_1's mape: 0.134247\n",
      "[3050]\ttraining's mape: 0.13369\tvalid_1's mape: 0.134234\n",
      "[3100]\ttraining's mape: 0.133656\tvalid_1's mape: 0.134224\n",
      "[3150]\ttraining's mape: 0.133621\tvalid_1's mape: 0.134209\n",
      "[3200]\ttraining's mape: 0.13359\tvalid_1's mape: 0.134201\n",
      "[3250]\ttraining's mape: 0.133556\tvalid_1's mape: 0.134189\n",
      "[3300]\ttraining's mape: 0.133524\tvalid_1's mape: 0.134179\n",
      "[3350]\ttraining's mape: 0.13349\tvalid_1's mape: 0.13417\n",
      "[3400]\ttraining's mape: 0.133448\tvalid_1's mape: 0.134154\n",
      "[3450]\ttraining's mape: 0.133407\tvalid_1's mape: 0.134136\n",
      "[3500]\ttraining's mape: 0.133371\tvalid_1's mape: 0.134126\n",
      "[3550]\ttraining's mape: 0.133333\tvalid_1's mape: 0.134112\n",
      "[3600]\ttraining's mape: 0.133287\tvalid_1's mape: 0.13409\n",
      "[3650]\ttraining's mape: 0.133258\tvalid_1's mape: 0.134081\n",
      "[3700]\ttraining's mape: 0.133229\tvalid_1's mape: 0.134074\n",
      "[3750]\ttraining's mape: 0.133197\tvalid_1's mape: 0.134063\n",
      "[3800]\ttraining's mape: 0.133168\tvalid_1's mape: 0.134054\n",
      "[3850]\ttraining's mape: 0.133136\tvalid_1's mape: 0.134042\n",
      "[3900]\ttraining's mape: 0.133103\tvalid_1's mape: 0.13403\n",
      "[3950]\ttraining's mape: 0.13307\tvalid_1's mape: 0.134018\n",
      "[4000]\ttraining's mape: 0.133038\tvalid_1's mape: 0.134006\n",
      "[4050]\ttraining's mape: 0.13301\tvalid_1's mape: 0.133998\n",
      "[4100]\ttraining's mape: 0.132981\tvalid_1's mape: 0.133989\n",
      "[4150]\ttraining's mape: 0.13295\tvalid_1's mape: 0.133979\n",
      "[4200]\ttraining's mape: 0.132922\tvalid_1's mape: 0.133973\n",
      "[4250]\ttraining's mape: 0.132891\tvalid_1's mape: 0.133962\n",
      "[4300]\ttraining's mape: 0.132863\tvalid_1's mape: 0.133956\n",
      "[4350]\ttraining's mape: 0.132835\tvalid_1's mape: 0.13395\n",
      "[4400]\ttraining's mape: 0.132806\tvalid_1's mape: 0.133943\n",
      "[4450]\ttraining's mape: 0.132778\tvalid_1's mape: 0.133936\n",
      "[4500]\ttraining's mape: 0.132751\tvalid_1's mape: 0.13393\n",
      "[4550]\ttraining's mape: 0.132723\tvalid_1's mape: 0.13392\n",
      "[4600]\ttraining's mape: 0.132694\tvalid_1's mape: 0.133912\n",
      "[4650]\ttraining's mape: 0.132663\tvalid_1's mape: 0.133902\n",
      "[4700]\ttraining's mape: 0.132634\tvalid_1's mape: 0.133894\n",
      "[4750]\ttraining's mape: 0.132607\tvalid_1's mape: 0.133888\n",
      "[4800]\ttraining's mape: 0.132581\tvalid_1's mape: 0.133883\n",
      "[4850]\ttraining's mape: 0.132552\tvalid_1's mape: 0.133876\n",
      "[4900]\ttraining's mape: 0.132523\tvalid_1's mape: 0.133867\n",
      "[4950]\ttraining's mape: 0.132497\tvalid_1's mape: 0.133863\n",
      "[5000]\ttraining's mape: 0.132469\tvalid_1's mape: 0.133857\n",
      "[5050]\ttraining's mape: 0.132439\tvalid_1's mape: 0.13385\n",
      "[5100]\ttraining's mape: 0.132412\tvalid_1's mape: 0.133844\n",
      "[5150]\ttraining's mape: 0.132387\tvalid_1's mape: 0.13384\n",
      "[5200]\ttraining's mape: 0.132363\tvalid_1's mape: 0.133834\n",
      "[5250]\ttraining's mape: 0.132332\tvalid_1's mape: 0.133826\n",
      "[5300]\ttraining's mape: 0.132302\tvalid_1's mape: 0.13382\n",
      "[5350]\ttraining's mape: 0.132277\tvalid_1's mape: 0.133815\n",
      "[5400]\ttraining's mape: 0.132253\tvalid_1's mape: 0.133811\n",
      "[5450]\ttraining's mape: 0.13223\tvalid_1's mape: 0.133807\n",
      "[5500]\ttraining's mape: 0.132206\tvalid_1's mape: 0.133803\n",
      "[5550]\ttraining's mape: 0.132183\tvalid_1's mape: 0.133801\n",
      "[5600]\ttraining's mape: 0.132155\tvalid_1's mape: 0.133799\n",
      "[5650]\ttraining's mape: 0.132129\tvalid_1's mape: 0.133793\n",
      "[5700]\ttraining's mape: 0.132106\tvalid_1's mape: 0.133791\n",
      "[5750]\ttraining's mape: 0.132082\tvalid_1's mape: 0.133787\n",
      "[5800]\ttraining's mape: 0.132057\tvalid_1's mape: 0.133784\n",
      "[5850]\ttraining's mape: 0.132033\tvalid_1's mape: 0.13378\n",
      "[5900]\ttraining's mape: 0.132011\tvalid_1's mape: 0.133776\n",
      "[5950]\ttraining's mape: 0.131988\tvalid_1's mape: 0.133774\n",
      "[6000]\ttraining's mape: 0.131961\tvalid_1's mape: 0.133772\n",
      "Did not meet early stopping. Best iteration is:\n",
      "[6000]\ttraining's mape: 0.131961\tvalid_1's mape: 0.133772\n"
     ]
    }
   ],
   "source": [
    "lgb_train = lgb.Dataset(X_train,y_train)\n",
    "lgb_valid = lgb.Dataset(X_valid,y_valid)\n",
    "model = lgb.train(params, lgb_train, 6000, valid_sets=[lgb_train, lgb_valid],early_stopping_rounds=1000, verbose_eval=50)\n",
    "preds = model.predict(test[[\"Year\",\"Month\",\"Day\",\"Store\",\"Item\",\"Weekday\",\"Week\"]])"
   ]
  },
  {
   "cell_type": "code",
   "execution_count": null,
   "metadata": {
    "id": "a_ySrAquDo-1"
   },
   "outputs": [],
   "source": [
    "output_idx = test.index + 1\n",
    "preds_full_out = pd.DataFrame({\"ID\": output_idx, \"Sales\":preds})"
   ]
  },
  {
   "cell_type": "code",
   "execution_count": null,
   "metadata": {
    "id": "XZmB2zVpMQuk"
   },
   "outputs": [],
   "source": [
    "preds_full_out.to_csv(\"pred_sales.csv\", index=False)"
   ]
  },
  {
   "cell_type": "code",
   "execution_count": null,
   "metadata": {
    "colab": {
     "base_uri": "https://localhost:8080/",
     "height": 677
    },
    "id": "O_7sAFrNVLtu",
    "outputId": "f557835b-3303-43f6-ab04-1240e603b48b"
   },
   "outputs": [
    {
     "data": {
      "text/html": [
       "<div>\n",
       "<style scoped>\n",
       "    .dataframe tbody tr th:only-of-type {\n",
       "        vertical-align: middle;\n",
       "    }\n",
       "\n",
       "    .dataframe tbody tr th {\n",
       "        vertical-align: top;\n",
       "    }\n",
       "\n",
       "    .dataframe thead th {\n",
       "        text-align: right;\n",
       "    }\n",
       "</style>\n",
       "<table border=\"1\" class=\"dataframe\">\n",
       "  <thead>\n",
       "    <tr style=\"text-align: right;\">\n",
       "      <th></th>\n",
       "      <th>ID</th>\n",
       "      <th>Sales</th>\n",
       "    </tr>\n",
       "  </thead>\n",
       "  <tbody>\n",
       "    <tr>\n",
       "      <th>0</th>\n",
       "      <td>1</td>\n",
       "      <td>32.516048</td>\n",
       "    </tr>\n",
       "    <tr>\n",
       "      <th>1</th>\n",
       "      <td>2</td>\n",
       "      <td>33.003121</td>\n",
       "    </tr>\n",
       "    <tr>\n",
       "      <th>2</th>\n",
       "      <td>3</td>\n",
       "      <td>22.123801</td>\n",
       "    </tr>\n",
       "    <tr>\n",
       "      <th>3</th>\n",
       "      <td>4</td>\n",
       "      <td>24.979691</td>\n",
       "    </tr>\n",
       "    <tr>\n",
       "      <th>4</th>\n",
       "      <td>5</td>\n",
       "      <td>26.690375</td>\n",
       "    </tr>\n",
       "    <tr>\n",
       "      <th>5</th>\n",
       "      <td>6</td>\n",
       "      <td>28.289636</td>\n",
       "    </tr>\n",
       "    <tr>\n",
       "      <th>6</th>\n",
       "      <td>7</td>\n",
       "      <td>30.006134</td>\n",
       "    </tr>\n",
       "    <tr>\n",
       "      <th>7</th>\n",
       "      <td>8</td>\n",
       "      <td>32.537101</td>\n",
       "    </tr>\n",
       "    <tr>\n",
       "      <th>8</th>\n",
       "      <td>9</td>\n",
       "      <td>33.505768</td>\n",
       "    </tr>\n",
       "    <tr>\n",
       "      <th>9</th>\n",
       "      <td>10</td>\n",
       "      <td>21.888973</td>\n",
       "    </tr>\n",
       "    <tr>\n",
       "      <th>10</th>\n",
       "      <td>11</td>\n",
       "      <td>25.570733</td>\n",
       "    </tr>\n",
       "    <tr>\n",
       "      <th>11</th>\n",
       "      <td>12</td>\n",
       "      <td>26.291980</td>\n",
       "    </tr>\n",
       "    <tr>\n",
       "      <th>12</th>\n",
       "      <td>13</td>\n",
       "      <td>27.993219</td>\n",
       "    </tr>\n",
       "    <tr>\n",
       "      <th>13</th>\n",
       "      <td>14</td>\n",
       "      <td>29.823337</td>\n",
       "    </tr>\n",
       "    <tr>\n",
       "      <th>14</th>\n",
       "      <td>15</td>\n",
       "      <td>33.072490</td>\n",
       "    </tr>\n",
       "    <tr>\n",
       "      <th>15</th>\n",
       "      <td>16</td>\n",
       "      <td>34.013935</td>\n",
       "    </tr>\n",
       "    <tr>\n",
       "      <th>16</th>\n",
       "      <td>17</td>\n",
       "      <td>22.939582</td>\n",
       "    </tr>\n",
       "    <tr>\n",
       "      <th>17</th>\n",
       "      <td>18</td>\n",
       "      <td>26.035433</td>\n",
       "    </tr>\n",
       "    <tr>\n",
       "      <th>18</th>\n",
       "      <td>19</td>\n",
       "      <td>26.948571</td>\n",
       "    </tr>\n",
       "    <tr>\n",
       "      <th>19</th>\n",
       "      <td>20</td>\n",
       "      <td>28.418947</td>\n",
       "    </tr>\n",
       "  </tbody>\n",
       "</table>\n",
       "</div>"
      ],
      "text/plain": [
       "    ID      Sales\n",
       "0    1  32.516048\n",
       "1    2  33.003121\n",
       "2    3  22.123801\n",
       "3    4  24.979691\n",
       "4    5  26.690375\n",
       "5    6  28.289636\n",
       "6    7  30.006134\n",
       "7    8  32.537101\n",
       "8    9  33.505768\n",
       "9   10  21.888973\n",
       "10  11  25.570733\n",
       "11  12  26.291980\n",
       "12  13  27.993219\n",
       "13  14  29.823337\n",
       "14  15  33.072490\n",
       "15  16  34.013935\n",
       "16  17  22.939582\n",
       "17  18  26.035433\n",
       "18  19  26.948571\n",
       "19  20  28.418947"
      ]
     },
     "execution_count": 169,
     "metadata": {},
     "output_type": "execute_result"
    }
   ],
   "source": [
    "preds_full_out.head(20)"
   ]
  },
  {
   "cell_type": "markdown",
   "metadata": {
    "id": "raIKV9xEDJzk"
   },
   "source": [
    "***\\~The End\\~***\n",
    "\n",
    "---\n",
    "\n"
   ]
  }
 ],
 "metadata": {
  "colab": {
   "collapsed_sections": [
    "sSLCraz1LSdW",
    "AWkk-bc4LFJG",
    "8OC6ko0vNy2l",
    "6EJfdrzYSAgB",
    "1lP_PzC7uG3p",
    "wVOx_YZA5wHs",
    "oynGOu3fQjwj"
   ],
   "name": "mdss.ipynb",
   "provenance": []
  },
  "kernelspec": {
   "display_name": "Python 3",
   "language": "python",
   "name": "python3"
  },
  "language_info": {
   "codemirror_mode": {
    "name": "ipython",
    "version": 3
   },
   "file_extension": ".py",
   "mimetype": "text/x-python",
   "name": "python",
   "nbconvert_exporter": "python",
   "pygments_lexer": "ipython3",
   "version": "3.8.5"
  }
 },
 "nbformat": 4,
 "nbformat_minor": 1
}
